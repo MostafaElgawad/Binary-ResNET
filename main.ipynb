{
  "cells": [
    {
      "cell_type": "markdown",
      "metadata": {
        "id": "BRyx6u00pnVH"
      },
      "source": [
        "# Deep Learning Project - Image Classification"
      ]
    },
    {
      "cell_type": "code",
      "execution_count": 3,
      "metadata": {
        "id": "6uKV9t_FpnVK"
      },
      "outputs": [],
      "source": [
        "import torch\n",
        "from src.model import ResNet34, ResNet50\n",
        "from src.train import Trainer\n",
        "from src.dataset_loader import get_data_loaders"
      ]
    },
    {
      "cell_type": "markdown",
      "metadata": {
        "id": "2jOQmtDppnVM"
      },
      "source": [
        "## Loading Data"
      ]
    },
    {
      "cell_type": "code",
      "execution_count": 4,
      "metadata": {
        "colab": {
          "base_uri": "https://localhost:8080/"
        },
        "id": "mpWwZhajpnVN",
        "outputId": "59c32cea-1fbd-46da-df6a-961869f9c85e"
      },
      "outputs": [
        {
          "name": "stdout",
          "output_type": "stream",
          "text": [
            "Number of training batches: 23\n",
            "Number of validation batches: 11\n",
            "Number of test batches: 10\n",
            "Classes: ['cat', 'dog']\n"
          ]
        }
      ],
      "source": [
        "# Load and check data\n",
        "train_loader, val_loader, test_loader = get_data_loaders(batch_size=32)\n",
        "\n",
        "print(f\"Number of training batches: {len(train_loader)}\")\n",
        "print(f\"Number of validation batches: {len(val_loader)}\")\n",
        "print(f\"Number of test batches: {len(test_loader)}\")\n",
        "\n",
        "# Get class names\n",
        "class_names = train_loader.dataset.classes\n",
        "print(f\"Classes: {class_names}\")"
      ]
    },
    {
      "cell_type": "markdown",
      "metadata": {
        "id": "6y5fZNwRpnVP"
      },
      "source": [
        "## Initialize and Train Model"
      ]
    },
    {
      "cell_type": "code",
      "execution_count": 5,
      "metadata": {
        "colab": {
          "base_uri": "https://localhost:8080/"
        },
        "id": "WKZXEObapnVP",
        "outputId": "3c30e1d1-8648-4219-b6dd-b274f7b2fdee"
      },
      "outputs": [
        {
          "name": "stdout",
          "output_type": "stream",
          "text": [
            "Using device: cuda\n"
          ]
        }
      ],
      "source": [
        "# Initialize model\n",
        "model = ResNet50(num_classes=1)\n",
        "\n",
        "# Initialize trainer\n",
        "trainer = Trainer(\n",
        "    model=model,\n",
        "    epochs=50,\n",
        "    train_loader = train_loader,\n",
        "    val_loader = val_loader,\n",
        "    patience=5  # Early stopping patience\n",
        ")"
      ]
    },
    {
      "cell_type": "code",
      "execution_count": 6,
      "metadata": {
        "colab": {
          "base_uri": "https://localhost:8080/"
        },
        "id": "t9678FtRQ8kw",
        "outputId": "2367fa39-a521-47a5-ed3e-10319ced7dc6"
      },
      "outputs": [
        {
          "name": "stdout",
          "output_type": "stream",
          "text": [
            "Epoch 1/50:\n",
            "Train Loss: 0.9526, Train Acc: 0.5234\n",
            "Val Loss: 0.7298, Val Acc: 0.1964\n",
            "Epoch 2/50:\n",
            "Train Loss: 0.7056, Train Acc: 0.5536\n",
            "Val Loss: 0.5811, Val Acc: 0.8036\n",
            "Epoch 3/50:\n",
            "Train Loss: 0.7342, Train Acc: 0.5261\n",
            "Val Loss: 0.5288, Val Acc: 0.8036\n",
            "Epoch 4/50:\n",
            "Train Loss: 0.7087, Train Acc: 0.5769\n",
            "Val Loss: 0.5935, Val Acc: 0.8036\n",
            "Epoch 5/50:\n",
            "Train Loss: 0.7152, Train Acc: 0.5701\n",
            "Val Loss: 0.6116, Val Acc: 0.8036\n",
            "Epoch 6/50:\n",
            "Train Loss: 0.7320, Train Acc: 0.5755\n",
            "Val Loss: 0.7913, Val Acc: 0.7887\n",
            "Epoch 7/50:\n",
            "Train Loss: 0.6997, Train Acc: 0.5687\n",
            "Val Loss: 0.5981, Val Acc: 0.7857\n",
            "Early stopping triggered after epoch 7\n",
            "Training completed. Best validation accuracy: 0.8036 at epoch 2\n"
          ]
        }
      ],
      "source": [
        "# Train the model\n",
        "trainer.train()"
      ]
    },
    {
      "cell_type": "markdown",
      "metadata": {
        "id": "8h3GVN6XpnVQ"
      },
      "source": [
        "## Evaluate on Test Set"
      ]
    },
    {
      "cell_type": "code",
      "execution_count": 7,
      "metadata": {
        "colab": {
          "base_uri": "https://localhost:8080/",
          "height": 914
        },
        "id": "um7uyAf-pnVQ",
        "outputId": "b054b6f1-c34f-49e2-a7f4-046a53303ee2"
      },
      "outputs": [
        {
          "name": "stderr",
          "output_type": "stream",
          "text": [
            "<ipython-input-7-576461e77554>:24: FutureWarning: You are using `torch.load` with `weights_only=False` (the current default value), which uses the default pickle module implicitly. It is possible to construct malicious pickle data which will execute arbitrary code during unpickling (See https://github.com/pytorch/pytorch/blob/main/SECURITY.md#untrusted-models for more details). In a future release, the default value for `weights_only` will be flipped to `True`. This limits the functions that could be executed during unpickling. Arbitrary objects will no longer be allowed to be loaded via this mode unless they are explicitly allowlisted by the user via `torch.serialization.add_safe_globals`. We recommend you start setting `weights_only=True` for any use case where you don't have full control of the loaded file. Please open an issue on GitHub for any issues related to this experimental feature.\n",
            "  checkpoint = torch.load(path)\n"
          ]
        },
        {
          "name": "stdout",
          "output_type": "stream",
          "text": [
            "Loaded model from epoch 2 with validation accuracy: 0.8036\n",
            "Classification Report:\n",
            "              precision    recall  f1-score   support\n",
            "\n",
            "         cat       0.00      0.00      0.00        66\n",
            "         dog       0.79      1.00      0.88       250\n",
            "\n",
            "    accuracy                           0.79       316\n",
            "   macro avg       0.40      0.50      0.44       316\n",
            "weighted avg       0.63      0.79      0.70       316\n",
            "\n"
          ]
        },
        {
          "name": "stderr",
          "output_type": "stream",
          "text": [
            "/usr/local/lib/python3.11/dist-packages/sklearn/metrics/_classification.py:1565: UndefinedMetricWarning: Precision is ill-defined and being set to 0.0 in labels with no predicted samples. Use `zero_division` parameter to control this behavior.\n",
            "  _warn_prf(average, modifier, f\"{metric.capitalize()} is\", len(result))\n",
            "/usr/local/lib/python3.11/dist-packages/sklearn/metrics/_classification.py:1565: UndefinedMetricWarning: Precision is ill-defined and being set to 0.0 in labels with no predicted samples. Use `zero_division` parameter to control this behavior.\n",
            "  _warn_prf(average, modifier, f\"{metric.capitalize()} is\", len(result))\n",
            "/usr/local/lib/python3.11/dist-packages/sklearn/metrics/_classification.py:1565: UndefinedMetricWarning: Precision is ill-defined and being set to 0.0 in labels with no predicted samples. Use `zero_division` parameter to control this behavior.\n",
            "  _warn_prf(average, modifier, f\"{metric.capitalize()} is\", len(result))\n"
          ]
        },
        {
          "data": {
            "image/png": "[encoded data removed]",
            "text/plain": [
              "<Figure size 800x600 with 2 Axes>"
            ]
          },
          "metadata": {},
          "output_type": "display_data"
        }
      ],
      "source": [
        "from sklearn.metrics import classification_report, confusion_matrix\n",
        "import seaborn as sns\n",
        "import matplotlib.pyplot as plt\n",
        "device = torch.device(\"cuda\" if torch.cuda.is_available() else \"cpu\")\n",
        "\n",
        "def evaluate_model(test_loader):\n",
        "\n",
        "    _, all_preds, all_labels = trainer.evaluate(test_loader)\n",
        "    # Print classification report\n",
        "    print(\"Classification Report:\")\n",
        "    print(classification_report(all_labels, all_preds, target_names=class_names))\n",
        "\n",
        "    # Plot confusion matrix\n",
        "    cm = confusion_matrix(all_labels, all_preds)\n",
        "    plt.figure(figsize=(8, 6))\n",
        "    sns.heatmap(cm, annot=True, fmt='d', cmap='Blues', xticklabels=class_names, yticklabels=class_names)\n",
        "    plt.title('Confusion Matrix')\n",
        "    plt.ylabel('True Label')\n",
        "    plt.xlabel('Predicted Label')\n",
        "    plt.show()\n",
        "\n",
        "# Load best model\n",
        "path = 'checkpoints/best_model.pth'\n",
        "checkpoint = torch.load(path)\n",
        "trainer.load_model(checkpoint[\"model_state_dict\"])\n",
        "print(f\"Loaded model from epoch {checkpoint['epoch']} with validation accuracy: {checkpoint['best_accuracy']:.4f}\")\n",
        "\n",
        "# Evaluate on test set\n",
        "evaluate_model( test_loader)"
      ]
    }
  ],
  "metadata": {
    "accelerator": "GPU",
    "colab": {
      "gpuType": "T4",
      "provenance": []
    },
    "kernelspec": {
      "display_name": "Python 3",
      "name": "python3"
    },
    "language_info": {
      "codemirror_mode": {
        "name": "ipython",
        "version": 3
      },
      "file_extension": ".py",
      "mimetype": "text/x-python",
      "name": "python",
      "nbconvert_exporter": "python",
      "pygments_lexer": "ipython3",
      "version": "3.12.9"
    }
  },
  "nbformat": 4,
  "nbformat_minor": 0
}
